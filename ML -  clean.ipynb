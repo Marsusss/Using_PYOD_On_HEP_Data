{
 "cells": [
  {
   "cell_type": "code",
   "execution_count": 1,
   "metadata": {},
   "outputs": [
    {
     "name": "stderr",
     "output_type": "stream",
     "text": [
      "Using TensorFlow backend.\n"
     ]
    }
   ],
   "source": [
    "from sklearn.neural_network import MLPClassifier\n",
    "import os\n",
    "import numpy as np\n",
    "import matplotlib.pyplot as plt\n",
    "import pyod\n",
    "from pyod.models.vae import VAE\n",
    "import pickle\n",
    "\n",
    "dir=\"Signal/\"#<--- signal folder\n",
    "filename=\"stop_01_p_p_to_t1_t1~0_26.7494500003_39HT1001l2j.npy\" #<--- Signal file\n",
    "sig0=np.load(dir+filename,allow_pickle=True)\n",
    "\n",
    "dir=\"Background/\" #<--- vg folder\n",
    "filename=\"smHT1001l2j.npy\" #<--- Background file\n",
    "bg0=np.load(dir+filename,allow_pickle=True)"
   ]
  },
  {
   "cell_type": "code",
   "execution_count": null,
   "metadata": {},
   "outputs": [],
   "source": []
  },
  {
   "cell_type": "code",
   "execution_count": 14,
   "metadata": {},
   "outputs": [],
   "source": [
    "def normstdmax(ar):\n",
    "    array=np.copy(ar)\n",
    "    if array[0,-1]==0 or array[0,-1]==1:\n",
    "        array[:,:-1]=array[:,:-1]-np.min(array[:,:-1],0)\n",
    "        array[:,:-1]=array[:,:-1]/np.std(array[:,:-1],0)\n",
    "        array[:,:-1]=array[:,:-1]/np.max(array[:,:-1])\n",
    "        return array\n",
    "    \n",
    "    #Sker kun hvis ovenstående kriterie fejler.\n",
    "    array=array-np.min(array,0)\n",
    "    array=array/np.std(array,0)\n",
    "    array=array/np.max(array)\n",
    "    return array"
   ]
  },
  {
   "cell_type": "code",
   "execution_count": 4,
   "metadata": {},
   "outputs": [],
   "source": [
    "#Adding signal and background into one randomly mixed array with a 0/1 at the end to identify background and signal\n",
    "def full(sig,bg):\n",
    "    full=np.row_stack((sig,bg))\n",
    "    full=np.column_stack((full,np.row_stack((np.ones((sig.shape[0],1)),np.zeros((bg.shape[0],1))))))\n",
    "    np.take(full,np.random.rand(full.shape[0]).argsort(),axis=0,out=full)\n",
    "    return full"
   ]
  },
  {
   "cell_type": "code",
   "execution_count": null,
   "metadata": {},
   "outputs": [],
   "source": []
  },
  {
   "cell_type": "code",
   "execution_count": 5,
   "metadata": {},
   "outputs": [
    {
     "data": {
      "text/plain": [
       "array([[ 1.047494e+05,  2.767270e+04,  7.558890e-01, ...,  5.500950e+04,\n",
       "        -1.499920e+00,  2.805900e+00],\n",
       "       [ 1.849348e+05,  2.214660e+04, -1.726390e+00, ...,  8.346660e+04,\n",
       "        -1.050830e-01, -2.920690e+00],\n",
       "       [ 1.564298e+05,  3.187170e+04, -2.001100e+00, ...,  3.952210e+04,\n",
       "         1.136310e+00,  1.962330e+00],\n",
       "       ...,\n",
       "       [ 3.662640e+05,  8.445130e+04, -2.763890e+00, ...,  1.822790e+04,\n",
       "         1.698010e+00, -1.528990e+00],\n",
       "       [ 5.033517e+05,  2.391250e+05, -1.390990e+00, ...,  7.290150e+04,\n",
       "        -6.253440e-02, -1.254320e+00],\n",
       "       [ 2.240684e+05,  1.176470e+05, -8.790790e-01, ...,  5.040980e+04,\n",
       "        -6.348420e-02, -1.997450e-01]])"
      ]
     },
     "execution_count": 5,
     "metadata": {},
     "output_type": "execute_result"
    }
   ],
   "source": [
    "#Mix the ordering in case unknown sorting exists\n",
    "np.random.seed(3)\n",
    "np.take(sig0,np.random.rand(sig0.shape[0]).argsort(),axis=0,out=sig0)\n",
    "np.take(bg0,np.random.rand(bg0.shape[0]).argsort(),axis=0,out=bg0)"
   ]
  },
  {
   "cell_type": "code",
   "execution_count": null,
   "metadata": {},
   "outputs": [],
   "source": []
  },
  {
   "cell_type": "code",
   "execution_count": 6,
   "metadata": {},
   "outputs": [],
   "source": [
    "np.random.seed(3)\n",
    "\n",
    "full0=full(sig0,bg0) #All signal and background\n",
    "\n",
    "part0=np.size(sig0)/np.size(bg0) #Part that is signal\n",
    "\n",
    "bg0h1=bg0[:int(np.shape(bg0)[0]/2)] #First half of background\n",
    "\n",
    "bg0h2=bg0[int(np.shape(bg0)[0]/2):] #Second half of background\n",
    "\n",
    "sig0h1=sig0[:int(np.shape(sig0)[0]/2)] #First half of singal\n",
    "\n",
    "sig0h2=sig0[int(np.shape(sig0)[0]/2):] #SEcond half of signal\n",
    "\n",
    "\n",
    "full0h1=full(sig0h1,bg0h1) #First half of bg and sig\n",
    "\n",
    "full0h2=full(sig0h2,bg0h2) #Second half of bg and sig\n",
    "\n",
    "\n",
    "\n",
    "bgpart0=bg0[::1] #<-- Determine how much og bg and sig to use\n",
    "#bg100t0=bg0[::30]\n",
    "#sig100t0=sig0[::15]\n",
    "sigpart0=sig0[:] #<-- Determine how much og bg and sig to use\n",
    "#bg100t0=bg0[::6]\n",
    "#sig100t0=sig0[::6]\n",
    "fullpart0=full(sigpart0,bgpart0)\n",
    "\n",
    "#Splitting chosen part of data in two and appending into signal+bg (full).\n",
    "bgpart0h1=bgpart0[:int(np.shape(bgpart0)[0]/2)]\n",
    "bgpart0h2=bgpart0[int(np.shape(bgpart0)[0]/2):]\n",
    "sigpart0h1=sigpart0[:int(np.shape(sigpart0)[0]/2)]\n",
    "sigpart0h2=sigpart0[int(np.shape(sigpart0)[0]/2):]\n",
    "fullpart0h1=full(sigpart0h1,bgpart0h1)\n",
    "fullpart0h2=full(sigpart0h2,bgpart0h2)"
   ]
  },
  {
   "cell_type": "code",
   "execution_count": null,
   "metadata": {},
   "outputs": [],
   "source": []
  },
  {
   "cell_type": "code",
   "execution_count": 7,
   "metadata": {},
   "outputs": [
    {
     "data": {
      "text/plain": [
       "(3188321, 12)"
      ]
     },
     "execution_count": 7,
     "metadata": {},
     "output_type": "execute_result"
    }
   ],
   "source": [
    "np.shape(bgpart0)"
   ]
  },
  {
   "cell_type": "code",
   "execution_count": null,
   "metadata": {},
   "outputs": [],
   "source": []
  },
  {
   "cell_type": "code",
   "execution_count": 15,
   "metadata": {},
   "outputs": [],
   "source": [
    "bgpart0h2normstdmax=normstdmax(bgpart0h2)\n",
    "fullpart0h1normstdmax=normstdmax(fullpart0h1)\n",
    "fullpart0h2normstdmax=normstdmax(fullpart0h2)"
   ]
  },
  {
   "cell_type": "code",
   "execution_count": null,
   "metadata": {},
   "outputs": [],
   "source": []
  },
  {
   "cell_type": "code",
   "execution_count": 16,
   "metadata": {},
   "outputs": [],
   "source": [
    "def VAEfitgaml2(train,test,encoders=[9],decoders=[9],contam=0.01,name=\"VAE\",epochs=1,lat=1,outact='sigmoid',stdz=False,gam=1,l2=0.1,drop=0.2,sz=32):\n",
    "    # By mistake taking 1 mio. events\n",
    "    clf_name = name\n",
    "    clf = VAE(contamination=contam,encoder_neurons=encoders,decoder_neurons=decoders,epochs=epochs,latent_dim=lat, output_activation=outact, preprocessing=stdz,gamma=gam,l2_regularizer=l2,dropout_rate=drop,batch_size=sz)#\n",
    "    clf.fit(train)\n",
    "    \n",
    "    score = clf.decision_function(test)  # outlier scores\n",
    "    \n",
    "    return score, clf\n",
    "    \n",
    "    #trainingset, testset, encoder neurons, decoder neurons, not important, name, epochs, latent space size, output activation function(see tf activation functions), whether to use automatic standardization, gamma-parameter, l2-regularizer, dropout percentage, batch size."
   ]
  },
  {
   "cell_type": "code",
   "execution_count": 17,
   "metadata": {},
   "outputs": [],
   "source": [
    "def roccurve(signal,total,scoretruth,N=100,lin=True,log=False,rev=False):\n",
    "    #signal, full, [score, truthvalue], points in roc curve, linear plot, log-plot, reverse roc curve.\n",
    "    scoretruth=scoretruth[((-1)**(rev)*scoretruth[:,0]).argsort()]\n",
    "    nsig=np.shape(signal)[0]\n",
    "    ntot=np.shape(total)[0]\n",
    "    nbg=ntot-nsig\n",
    "    isig=0\n",
    "    ibg=0\n",
    "    j=0\n",
    "    sigar=[]\n",
    "    bgar=[]\n",
    "    \n",
    "    for i in range(ntot):\n",
    "        \n",
    "        if scoretruth[ntot-i-1,1]==1:\n",
    "            isig+=1\n",
    "            if isig/nsig>j/N:\n",
    "                j=j+1\n",
    "                sigar+=[isig]\n",
    "                bgar+=[ibg]\n",
    "            if isig==nsig:\n",
    "                break\n",
    "                \n",
    "        else:\n",
    "            ibg+=1\n",
    "    \n",
    "    sigar+=[isig]\n",
    "    bgar+=[ibg]\n",
    "    \n",
    "    sigar=np.array(sigar)/nsig\n",
    "    bgar=np.array(bgar)/nbg\n",
    "    \n",
    "    if lin==True:\n",
    "        plt.plot(sigar,bgar,\"-\")\n",
    "        plt.xlabel(\"True positive rate\")\n",
    "        plt.ylabel(\"False positive rate\")\n",
    "        plt.show()\n",
    "    \n",
    "    if log==True:\n",
    "        plt.plot(sigar,bgar,\"-\")\n",
    "        plt.xlabel(\"True positive rate\")\n",
    "        plt.ylabel(\"False positive rate\")\n",
    "        plt.yscale('log')\n",
    "        plt.show()\n",
    "    \n",
    "    score=sigar.dot(bgar)/N\n",
    "    print(\"score:\",score,\"score2:\",sum(bgar)*(sigar[1]-sigar[0]))\n",
    "    print(\"50% signal gives:\",bgar[int(N/2)],\"90% signal gives:\", bgar[int(N*0.9)])\n",
    "    #print(bgar)\n",
    "    return (sum(bgar)*(sigar[1]-sigar[0]))\n"
   ]
  },
  {
   "cell_type": "code",
   "execution_count": 22,
   "metadata": {},
   "outputs": [],
   "source": [
    "def MLPfit(Data,Truth,Test,alpha=10**-4,layers=(5,5),verb=True):\n",
    "    #full (without truth collumn), Truth-value,test data, l2-regularizer, number of neurons, verbocity\n",
    "    clf = MLPClassifier(solver='adam', alpha=alpha, hidden_layer_sizes=layers, random_state=1,verbose=verb,tol=10**-4)\n",
    "    clf.fit(Data, Truth)\n",
    "    return clf.predict(Test), clf.predict_proba(Test), clf"
   ]
  },
  {
   "cell_type": "code",
   "execution_count": 19,
   "metadata": {},
   "outputs": [],
   "source": [
    "def Normplot(full,scores,min=False,max=False,n=100,part=0.0001):\n",
    "    #full, scores, min bound, max bound, number of bins, ignore margain to avoid plotting unnecessarily long tails.\n",
    "    if min==False:\n",
    "        min=np.min(scores)\n",
    "    if max==False:\n",
    "        max=np.max(scores)\n",
    "        \n",
    "    plt.figure(figsize=(15,10))\n",
    "    bins=np.linspace(min,max,n)\n",
    "    binwidth=(max+min)/n\n",
    "    binedges=np.linspace(min-binwidth,max+binwidth,n+1)\n",
    "    bgTr=full[:,-1]==0\n",
    "    sigTr=full[:,-1]==1\n",
    "    histbg,edges=np.histogram(scores[bgTr],binedges)\n",
    "    histsig,edges=np.histogram(scores[sigTr],binedges)\n",
    "    \n",
    "    #histbg=hist[bgTr]\n",
    "    erbg=np.sqrt(histbg)\n",
    "    erbg=erbg/np.sum(histbg)\n",
    "    histbg=histbg/np.sum(histbg)\n",
    "    #histsig=hist[sigTr]\n",
    "    ersig=np.sqrt(histsig)\n",
    "    ersig=ersig/np.sum(histsig)\n",
    "    histsig=histsig/np.sum(histsig)\n",
    "    \n",
    "    partsum=0\n",
    "    if part>0:         \n",
    "        for i in range(len(histbg)):\n",
    "            partsum+=histbg[-i]\n",
    "            if partsum>=part:\n",
    "                histsig=histsig[:-i]\n",
    "                histbg=histbg[:-i]\n",
    "                bins=bins[:-i]\n",
    "                erbg=erbg[:-i]\n",
    "                ersig=ersig[:-i]\n",
    "                break\n",
    "\n",
    "\n",
    "    plt.bar(bins,histbg,yerr=erbg,label=\"Background\",width=(binedges[-1]-binedges[0])/n,alpha=0.5,color=\"green\")\n",
    "    plt.bar(bins,histsig,yerr=ersig,label=\"Signal\",width=(binedges[-1]-binedges[0])/n,alpha=0.3,color=\"red\")\n",
    "    plt.legend(fontsize='xx-large')\n",
    "    plt.title(\"score\",fontsize='xx-large')\n",
    "    plt.xlabel(\"score\",fontsize='xx-large')\n",
    "    plt.ylabel(\"counts(normalized)\",fontsize='xx-large')\n",
    "    plt.show()\n"
   ]
  },
  {
   "cell_type": "code",
   "execution_count": null,
   "metadata": {},
   "outputs": [],
   "source": []
  },
  {
   "cell_type": "code",
   "execution_count": null,
   "metadata": {},
   "outputs": [],
   "source": []
  },
  {
   "cell_type": "code",
   "execution_count": 20,
   "metadata": {
    "scrolled": true
   },
   "outputs": [
    {
     "name": "stdout",
     "output_type": "stream",
     "text": [
      "Model: \"model_1\"\n",
      "__________________________________________________________________________________________________\n",
      "Layer (type)                    Output Shape         Param #     Connected to                     \n",
      "==================================================================================================\n",
      "input_1 (InputLayer)            (None, 12)           0                                            \n",
      "__________________________________________________________________________________________________\n",
      "dense_1 (Dense)                 (None, 12)           156         input_1[0][0]                    \n",
      "__________________________________________________________________________________________________\n",
      "dense_2 (Dense)                 (None, 12)           156         dense_1[0][0]                    \n",
      "__________________________________________________________________________________________________\n",
      "dropout_1 (Dropout)             (None, 12)           0           dense_2[0][0]                    \n",
      "__________________________________________________________________________________________________\n",
      "dense_3 (Dense)                 (None, 4)            52          dropout_1[0][0]                  \n",
      "__________________________________________________________________________________________________\n",
      "dropout_2 (Dropout)             (None, 4)            0           dense_3[0][0]                    \n",
      "__________________________________________________________________________________________________\n",
      "dense_4 (Dense)                 (None, 3)            15          dropout_2[0][0]                  \n",
      "__________________________________________________________________________________________________\n",
      "dense_5 (Dense)                 (None, 3)            15          dropout_2[0][0]                  \n",
      "__________________________________________________________________________________________________\n",
      "lambda_1 (Lambda)               (None, 3)            0           dense_4[0][0]                    \n",
      "                                                                 dense_5[0][0]                    \n",
      "==================================================================================================\n",
      "Total params: 394\n",
      "Trainable params: 394\n",
      "Non-trainable params: 0\n",
      "__________________________________________________________________________________________________\n",
      "Model: \"model_2\"\n",
      "_________________________________________________________________\n",
      "Layer (type)                 Output Shape              Param #   \n",
      "=================================================================\n",
      "input_2 (InputLayer)         (None, 3)                 0         \n",
      "_________________________________________________________________\n",
      "dense_6 (Dense)              (None, 3)                 12        \n",
      "_________________________________________________________________\n",
      "dense_7 (Dense)              (None, 4)                 16        \n",
      "_________________________________________________________________\n",
      "dropout_3 (Dropout)          (None, 4)                 0         \n",
      "_________________________________________________________________\n",
      "dense_8 (Dense)              (None, 12)                60        \n",
      "_________________________________________________________________\n",
      "dropout_4 (Dropout)          (None, 12)                0         \n",
      "_________________________________________________________________\n",
      "dense_9 (Dense)              (None, 12)                156       \n",
      "=================================================================\n",
      "Total params: 244\n",
      "Trainable params: 244\n",
      "Non-trainable params: 0\n",
      "_________________________________________________________________\n",
      "Model: \"model_3\"\n",
      "_________________________________________________________________\n",
      "Layer (type)                 Output Shape              Param #   \n",
      "=================================================================\n",
      "input_1 (InputLayer)         (None, 12)                0         \n",
      "_________________________________________________________________\n",
      "model_1 (Model)              [(None, 3), (None, 3), (N 394       \n",
      "_________________________________________________________________\n",
      "model_2 (Model)              (None, 12)                244       \n",
      "=================================================================\n",
      "Total params: 638\n",
      "Trainable params: 638\n",
      "Non-trainable params: 0\n",
      "_________________________________________________________________\n"
     ]
    },
    {
     "name": "stderr",
     "output_type": "stream",
     "text": [
      "/groups/hep/mthomsen/miniconda3/lib/python3.7/site-packages/keras/engine/training_utils.py:819: UserWarning: Output model_2 missing from loss dictionary. We assume this was done on purpose. The fit and evaluate APIs will not be expecting any data to be passed to model_2.\n",
      "  'be expecting any data to be passed to {0}.'.format(name))\n"
     ]
    },
    {
     "name": "stdout",
     "output_type": "stream",
     "text": [
      "Train on 1434744 samples, validate on 159417 samples\n",
      "Epoch 1/3\n",
      "1434744/1434744 [==============================] - 34s 24us/step - loss: 0.0174 - val_loss: 0.0080\n",
      "Epoch 2/3\n",
      "1434744/1434744 [==============================] - 34s 24us/step - loss: 0.0070 - val_loss: 0.0064\n",
      "Epoch 3/3\n",
      "1434744/1434744 [==============================] - 34s 24us/step - loss: 0.0063 - val_loss: 0.0062\n"
     ]
    },
    {
     "data": {
      "image/png": "[encoded data removed]",
      "text/plain": [
       "<Figure size 1080x720 with 1 Axes>"
      ]
     },
     "metadata": {
      "needs_background": "light"
     },
     "output_type": "display_data"
    },
    {
     "data": {
      "image/png": "[encoded data removed]",
      "text/plain": [
       "<Figure size 432x288 with 1 Axes>"
      ]
     },
     "metadata": {
      "needs_background": "light"
     },
     "output_type": "display_data"
    },
    {
     "data": {
      "image/png": "[encoded data removed]",
      "text/plain": [
       "<Figure size 432x288 with 1 Axes>"
      ]
     },
     "metadata": {
      "needs_background": "light"
     },
     "output_type": "display_data"
    },
    {
     "name": "stdout",
     "output_type": "stream",
     "text": [
      "score: 0.32330179887196947 score2: 0.4776597052739562\n",
      "50% signal gives: 0.46658679179003365 90% signal gives: 0.8718654338334922\n"
     ]
    },
    {
     "data": {
      "text/plain": [
       "0.4776597052739562"
      ]
     },
     "execution_count": 20,
     "metadata": {},
     "output_type": "execute_result"
    }
   ],
   "source": [
    "score, clf=VAEfitgaml2(bgpart0h2normstdmax,fullpart0h1normstdmax[:,:-1],encoders=[12,4],decoders=[4,12],lat=3,epochs=3, stdz=False,gam=10**(-6),l2=10**(-6),drop=0,sz=60)#<--- choose parameters (see function)\n",
    "#score is the outlier score, clf is the trained model\n",
    "Normplot(fullpart0h1,score,n=600)\n",
    "roccurve(fullpart0h1[fullpart0h1[:,-1]==1,:-1],fullpart0h1[:,:-1],np.column_stack((score,fullpart0h1[:,-1])),N=100,log=True)\n",
    "dir1=\"results/\" #<--- Choose save folder name\n",
    "np.save(dir1+\"VAEres1.npy\", np.column_stack((fullpart0h1,score)))#<--- choose result name"
   ]
  },
  {
   "cell_type": "code",
   "execution_count": null,
   "metadata": {},
   "outputs": [],
   "source": []
  },
  {
   "cell_type": "code",
   "execution_count": 23,
   "metadata": {
    "scrolled": true
   },
   "outputs": [
    {
     "name": "stdout",
     "output_type": "stream",
     "text": [
      "Iteration 1, loss = 0.12767804\n",
      "Iteration 2, loss = 0.12350455\n",
      "Iteration 3, loss = 0.12302054\n",
      "Iteration 4, loss = 0.12271247\n",
      "Iteration 5, loss = 0.12219132\n",
      "Iteration 6, loss = 0.12131599\n",
      "Iteration 7, loss = 0.12035710\n",
      "Iteration 8, loss = 0.11941613\n",
      "Iteration 9, loss = 0.11865795\n",
      "Iteration 10, loss = 0.11822830\n",
      "Iteration 11, loss = 0.11786541\n",
      "Iteration 12, loss = 0.11753990\n",
      "Iteration 13, loss = 0.11733619\n",
      "Iteration 14, loss = 0.11713381\n",
      "Iteration 15, loss = 0.11693332\n",
      "Iteration 16, loss = 0.11680495\n",
      "Iteration 17, loss = 0.11666704\n",
      "Iteration 18, loss = 0.11654666\n",
      "Iteration 19, loss = 0.11648654\n",
      "Iteration 20, loss = 0.11637571\n",
      "Iteration 21, loss = 0.11625621\n",
      "Iteration 22, loss = 0.11616082\n",
      "Iteration 23, loss = 0.11607464\n",
      "Iteration 24, loss = 0.11599518\n",
      "Iteration 25, loss = 0.11595919\n",
      "Iteration 26, loss = 0.11591666\n",
      "Iteration 27, loss = 0.11578529\n",
      "Iteration 28, loss = 0.11577871\n",
      "Iteration 29, loss = 0.11572824\n",
      "Iteration 30, loss = 0.11566268\n",
      "Iteration 31, loss = 0.11564464\n",
      "Iteration 32, loss = 0.11557488\n",
      "Iteration 33, loss = 0.11553353\n",
      "Iteration 34, loss = 0.11552234\n",
      "Iteration 35, loss = 0.11541789\n",
      "Iteration 36, loss = 0.11541390\n",
      "Iteration 37, loss = 0.11535213\n",
      "Iteration 38, loss = 0.11534137\n",
      "Iteration 39, loss = 0.11529382\n",
      "Iteration 40, loss = 0.11528165\n",
      "Iteration 41, loss = 0.11523735\n",
      "Iteration 42, loss = 0.11519821\n",
      "Iteration 43, loss = 0.11518490\n",
      "Iteration 44, loss = 0.11514697\n",
      "Iteration 45, loss = 0.11512837\n",
      "Iteration 46, loss = 0.11508673\n",
      "Training loss did not improve more than tol=0.000100 for 10 consecutive epochs. Stopping.\n"
     ]
    },
    {
     "data": {
      "image/png": "[encoded data removed]",
      "text/plain": [
       "<Figure size 1080x720 with 1 Axes>"
      ]
     },
     "metadata": {
      "needs_background": "light"
     },
     "output_type": "display_data"
    },
    {
     "data": {
      "image/png": "[encoded data removed]",
      "text/plain": [
       "<Figure size 432x288 with 1 Axes>"
      ]
     },
     "metadata": {
      "needs_background": "light"
     },
     "output_type": "display_data"
    },
    {
     "name": "stdout",
     "output_type": "stream",
     "text": [
      "score: 0.208959626162371 score2: 0.27864299540710846\n",
      "50% signal gives: 0.20805126210668942 90% signal gives: 0.6487291112560847\n"
     ]
    },
    {
     "data": {
      "text/plain": [
       "0.27864299540710846"
      ]
     },
     "execution_count": 23,
     "metadata": {},
     "output_type": "execute_result"
    }
   ],
   "source": [
    "pred,score,clf=MLPfit(fullpart0h2normstdmax[:,:-1],fullpart0h2normstdmax[:,-1],fullpart0h1normstdmax[:,:-1],alpha=10**-(4),layers=(24,24,12),verb=True)\n",
    "Normplot(fullpart0h1,score[:,1],max=np.max(score[:,1]),n=600)\n",
    "roccurve(fullpart0h1[fullpart0h1[:,-1]==1,:-1],fullpart0h1[:,:-1],np.column_stack((score[:,1],fullpart0h1[:,-1])),N=100)\n",
    "dir1=\"results/\" #<--- Choose save folder name\n",
    "np.save(dir1+\"MLPres1.npy\", np.column_stack((fullpart0h1,score[:,1])))#<--- choose result name"
   ]
  }
 ],
 "metadata": {
  "kernelspec": {
   "display_name": "Python 3",
   "language": "python",
   "name": "python3"
  },
  "language_info": {
   "codemirror_mode": {
    "name": "ipython",
    "version": 3
   },
   "file_extension": ".py",
   "mimetype": "text/x-python",
   "name": "python",
   "nbconvert_exporter": "python",
   "pygments_lexer": "ipython3",
   "version": "3.8.3"
  }
 },
 "nbformat": 4,
 "nbformat_minor": 4
}
